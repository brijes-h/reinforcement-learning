{
  "nbformat": 4,
  "nbformat_minor": 0,
  "metadata": {
    "colab": {
      "provenance": []
    },
    "kernelspec": {
      "name": "python3",
      "display_name": "Python 3"
    },
    "language_info": {
      "name": "python"
    }
  },
  "cells": [
    {
      "cell_type": "markdown",
      "source": [
        "Linear Regression"
      ],
      "metadata": {
        "id": "64nLnQWZzlNa"
      }
    },
    {
      "cell_type": "code",
      "execution_count": null,
      "metadata": {
        "colab": {
          "base_uri": "https://localhost:8080/"
        },
        "id": "dEMWTp8izNLT",
        "outputId": "677af81d-e7e8-41af-f27b-d4b1135a7013"
      },
      "outputs": [
        {
          "output_type": "stream",
          "name": "stdout",
          "text": [
            "Intercept: 2.2\n",
            "Coefficient: [0.6]\n",
            "Predicted output: [5.8]\n"
          ]
        }
      ],
      "source": [
        "#Linear Regression\n",
        "from sklearn.linear_model import LinearRegression\n",
        "\n",
        "# create a LinearRegression object\n",
        "regressor = LinearRegression()\n",
        "\n",
        "# define the input (X) and output (y) variables\n",
        "X = [[1], [2], [3], [4], [5]]\n",
        "y = [2, 4, 5, 4, 5]\n",
        "\n",
        "# train the model using the input and output data\n",
        "regressor.fit(X, y)\n",
        "\n",
        "# print the model coefficients\n",
        "print(\"Intercept:\", regressor.intercept_)\n",
        "print(\"Coefficient:\", regressor.coef_)\n",
        "\n",
        "# make a prediction for a new input value\n",
        "new_X = [[6]]\n",
        "predicted_y = regressor.predict(new_X)\n",
        "print(\"Predicted output:\", predicted_y)\n"
      ]
    },
    {
      "cell_type": "markdown",
      "source": [
        "Logistic Regression"
      ],
      "metadata": {
        "id": "j5ss1g83zoAA"
      }
    },
    {
      "cell_type": "code",
      "source": [
        "from sklearn.linear_model import LogisticRegression\n",
        "from sklearn.datasets import make_classification\n",
        "from sklearn.model_selection import train_test_split\n",
        "\n",
        "# create a classification dataset\n",
        "X, y = make_classification(n_samples=1000, n_features=4, random_state=42)\n",
        "\n",
        "# split the dataset into training and testing sets\n",
        "X_train, X_test, y_train, y_test = train_test_split(X, y, test_size=0.2, random_state=42)\n",
        "\n",
        "# create a LogisticRegression object\n",
        "classifier = LogisticRegression()\n",
        "\n",
        "# train the model using the training data\n",
        "classifier.fit(X_train, y_train)\n",
        "\n",
        "# evaluate the model accuracy on the testing data\n",
        "accuracy = classifier.score(X_test, y_test)\n",
        "print(\"Accuracy:\", accuracy)\n",
        "\n",
        "# make a prediction for a new input value\n",
        "new_X = [[0.5, 0.5, 0.5, 0.5]]\n",
        "predicted_y = classifier.predict(new_X)\n",
        "print(\"Predicted output:\", predicted_y)\n"
      ],
      "metadata": {
        "colab": {
          "base_uri": "https://localhost:8080/"
        },
        "id": "1xjJTk5PzSoj",
        "outputId": "b46b3ace-1d9a-40b4-b1fa-820e1c05c6c8"
      },
      "execution_count": null,
      "outputs": [
        {
          "output_type": "stream",
          "name": "stdout",
          "text": [
            "Accuracy: 0.885\n",
            "Predicted output: [1]\n"
          ]
        }
      ]
    },
    {
      "cell_type": "markdown",
      "source": [
        "KNN"
      ],
      "metadata": {
        "id": "RBEx3RzW0Vfn"
      }
    },
    {
      "cell_type": "code",
      "source": [
        "from sklearn.neighbors import KNeighborsClassifier\n",
        "from sklearn.datasets import make_classification\n",
        "from sklearn.model_selection import train_test_split\n",
        "\n",
        "# create a classification dataset\n",
        "X, y = make_classification(n_samples=1000, n_features=4, random_state=42)\n",
        "\n",
        "# split the dataset into training and testing sets\n",
        "X_train, X_test, y_train, y_test = train_test_split(X, y, test_size=0.2, random_state=42)\n",
        "\n",
        "# create a KNeighborsClassifier object with k=3\n",
        "classifier = KNeighborsClassifier(n_neighbors=3)\n",
        "\n",
        "# train the model using the training data\n",
        "classifier.fit(X_train, y_train)\n",
        "\n",
        "# evaluate the model accuracy on the testing data\n",
        "accuracy = classifier.score(X_test, y_test)\n",
        "print(\"Accuracy:\", accuracy)\n",
        "\n",
        "# make a prediction for a new input value\n",
        "new_X = [[0.5, 0.5, 0.5, 0.5]]\n",
        "predicted_y = classifier.predict(new_X)\n",
        "print(\"Predicted output:\", predicted_y)\n"
      ],
      "metadata": {
        "colab": {
          "base_uri": "https://localhost:8080/"
        },
        "id": "DqD3kf1ezp9d",
        "outputId": "09bc3653-bbd9-49c5-a6d3-a9e078acabc6"
      },
      "execution_count": null,
      "outputs": [
        {
          "output_type": "stream",
          "name": "stdout",
          "text": [
            "Accuracy: 0.95\n",
            "Predicted output: [1]\n"
          ]
        }
      ]
    },
    {
      "cell_type": "markdown",
      "source": [
        "SVM"
      ],
      "metadata": {
        "id": "PFfH16Qv04gW"
      }
    },
    {
      "cell_type": "code",
      "source": [
        "from sklearn.svm import SVC\n",
        "from sklearn.datasets import make_classification\n",
        "from sklearn.model_selection import train_test_split\n",
        "\n",
        "# create a classification dataset\n",
        "X, y = make_classification(n_samples=1000, n_features=4, random_state=42)\n",
        "\n",
        "# split the dataset into training and testing sets\n",
        "X_train, X_test, y_train, y_test = train_test_split(X, y, test_size=0.2, random_state=42)\n",
        "\n",
        "# create an SVM classifier with a linear kernel\n",
        "classifier = SVC(kernel='linear')\n",
        "\n",
        "# train the model using the training data\n",
        "classifier.fit(X_train, y_train)\n",
        "\n",
        "# evaluate the model accuracy on the testing data\n",
        "accuracy = classifier.score(X_test, y_test)\n",
        "print(\"Accuracy:\", accuracy)\n",
        "\n",
        "# make a prediction for a new input value\n",
        "new_X = [[0.5, 0.5, 0.5, 0.5]]\n",
        "predicted_y = classifier.predict(new_X)\n",
        "print(\"Predicted output:\", predicted_y)\n"
      ],
      "metadata": {
        "colab": {
          "base_uri": "https://localhost:8080/"
        },
        "id": "Qrtz0GSw0oPv",
        "outputId": "ae744341-f370-4cfa-bc57-acd418ced334"
      },
      "execution_count": null,
      "outputs": [
        {
          "output_type": "stream",
          "name": "stdout",
          "text": [
            "Accuracy: 0.88\n",
            "Predicted output: [1]\n"
          ]
        }
      ]
    },
    {
      "cell_type": "markdown",
      "source": [
        "K Means"
      ],
      "metadata": {
        "id": "TKX1N1zf1If6"
      }
    },
    {
      "cell_type": "code",
      "source": [
        "from sklearn.cluster import KMeans\n",
        "from sklearn.datasets import make_blobs\n",
        "import matplotlib.pyplot as plt\n",
        "\n",
        "# create a random dataset with 500 samples and 4 clusters\n",
        "X, y = make_blobs(n_samples=500, centers=4, random_state=42)\n",
        "\n",
        "# create a KMeans object with 4 clusters\n",
        "kmeans = KMeans(n_clusters=4)\n",
        "\n",
        "# fit the KMeans model to the data\n",
        "kmeans.fit(X)\n",
        "\n",
        "# get the cluster labels and cluster centers\n",
        "labels = kmeans.labels_\n",
        "centers = kmeans.cluster_centers_\n",
        "\n",
        "# plot the data points with different colors for each cluster\n",
        "plt.scatter(X[:, 0], X[:, 1], c=labels)\n",
        "# plot the cluster centers as red stars\n",
        "plt.scatter(centers[:, 0], centers[:, 1], marker='*', c='red', s=200)\n",
        "plt.show()\n"
      ],
      "metadata": {
        "colab": {
          "base_uri": "https://localhost:8080/",
          "height": 486
        },
        "id": "ySyqfyjy0rha",
        "outputId": "d8d56c38-2b43-4f2e-9705-3911aa51ae38"
      },
      "execution_count": null,
      "outputs": [
        {
          "output_type": "stream",
          "name": "stderr",
          "text": [
            "/usr/local/lib/python3.10/dist-packages/sklearn/cluster/_kmeans.py:870: FutureWarning: The default value of `n_init` will change from 10 to 'auto' in 1.4. Set the value of `n_init` explicitly to suppress the warning\n",
            "  warnings.warn(\n"
          ]
        },
        {
          "output_type": "display_data",
          "data": {
            "text/plain": [
              "<Figure size 640x480 with 1 Axes>"
            ],
            "image/png": "[encoded data removed]"
          },
          "metadata": {}
        }
      ]
    },
    {
      "cell_type": "markdown",
      "source": [
        "Naive Bayes Classification"
      ],
      "metadata": {
        "id": "DO_epu3x1o5m"
      }
    },
    {
      "cell_type": "code",
      "source": [
        "from sklearn.datasets import load_iris\n",
        "from sklearn.model_selection import train_test_split\n",
        "from sklearn.naive_bayes import GaussianNB\n",
        "from sklearn.metrics import accuracy_score\n",
        "\n",
        "# load the iris dataset\n",
        "iris = load_iris()\n",
        "\n",
        "# split the dataset into training and testing sets\n",
        "X_train, X_test, y_train, y_test = train_test_split(iris.data, iris.target, test_size=0.2, random_state=42)\n",
        "\n",
        "# create a Gaussian Naive Bayes classifier\n",
        "gnb = GaussianNB()\n",
        "\n",
        "# train the classifier using the training data\n",
        "gnb.fit(X_train, y_train)\n",
        "\n",
        "# make predictions on the testing data\n",
        "y_pred = gnb.predict(X_test)\n",
        "\n",
        "# calculate the accuracy of the classifier\n",
        "accuracy = accuracy_score(y_test, y_pred)\n",
        "print(\"Accuracy:\", accuracy)\n"
      ],
      "metadata": {
        "colab": {
          "base_uri": "https://localhost:8080/"
        },
        "id": "Q3mVAZDg1KSF",
        "outputId": "91abf478-bf13-4868-eff8-ecf52e6ec8f0"
      },
      "execution_count": null,
      "outputs": [
        {
          "output_type": "stream",
          "name": "stdout",
          "text": [
            "Accuracy: 1.0\n"
          ]
        }
      ]
    },
    {
      "cell_type": "markdown",
      "source": [
        "Binary Classificaftion using Logistic Regression"
      ],
      "metadata": {
        "id": "u_nhTCo-2Gug"
      }
    },
    {
      "cell_type": "code",
      "source": [
        "from sklearn.datasets import load_breast_cancer\n",
        "from sklearn.model_selection import train_test_split\n",
        "from sklearn.linear_model import LogisticRegression\n",
        "from sklearn.metrics import accuracy_score, precision_score, recall_score, f1_score, roc_auc_score\n",
        "\n",
        "# load the breast cancer dataset\n",
        "data = load_breast_cancer()\n",
        "\n",
        "# split the dataset into training and testing sets\n",
        "X_train, X_test, y_train, y_test = train_test_split(data.data, data.target, test_size=0.2, random_state=42)\n",
        "\n",
        "# create a logistic regression classifier\n",
        "lr = LogisticRegression()\n",
        "\n",
        "# train the classifier using the training data\n",
        "lr.fit(X_train, y_train)\n",
        "\n",
        "# make predictions on the testing data\n",
        "y_pred = lr.predict(X_test)\n",
        "\n",
        "# calculate the accuracy, precision, recall, F1 score, and AUC-ROC of the classifier\n",
        "accuracy = accuracy_score(y_test, y_pred)\n",
        "precision = precision_score(y_test, y_pred)\n",
        "recall = recall_score(y_test, y_pred)\n",
        "f1 = f1_score(y_test, y_pred)\n",
        "auc_roc = roc_auc_score(y_test, y_pred)\n",
        "print(\"Accuracy:\", accuracy)\n",
        "print(\"Precision:\", precision)\n",
        "print(\"Recall:\", recall)\n",
        "print(\"F1 score:\", f1)\n",
        "print(\"AUC-ROC score:\", auc_roc)\n"
      ],
      "metadata": {
        "colab": {
          "base_uri": "https://localhost:8080/"
        },
        "id": "RRWMTcgT1vSm",
        "outputId": "2ffea2d2-ba5f-4ed1-9c1e-66a2d95328ca"
      },
      "execution_count": null,
      "outputs": [
        {
          "output_type": "stream",
          "name": "stdout",
          "text": [
            "Accuracy: 0.9649122807017544\n",
            "Precision: 0.958904109589041\n",
            "Recall: 0.9859154929577465\n",
            "F1 score: 0.9722222222222222\n",
            "AUC-ROC score: 0.9580740255486406\n"
          ]
        },
        {
          "output_type": "stream",
          "name": "stderr",
          "text": [
            "/usr/local/lib/python3.10/dist-packages/sklearn/linear_model/_logistic.py:458: ConvergenceWarning: lbfgs failed to converge (status=1):\n",
            "STOP: TOTAL NO. of ITERATIONS REACHED LIMIT.\n",
            "\n",
            "Increase the number of iterations (max_iter) or scale the data as shown in:\n",
            "    https://scikit-learn.org/stable/modules/preprocessing.html\n",
            "Please also refer to the documentation for alternative solver options:\n",
            "    https://scikit-learn.org/stable/modules/linear_model.html#logistic-regression\n",
            "  n_iter_i = _check_optimize_result(\n"
          ]
        }
      ]
    },
    {
      "cell_type": "code",
      "source": [
        "#Image-Processing\n",
        "\n",
        "import tensorflow\n",
        "import keras\n",
        "import os\n",
        "import glob\n",
        "from skimage import io\n",
        "import random\n",
        "import numpy as np\n",
        "import matplotlib.pyplot as plt\n",
        "%matplotlib inline\n",
        "dataset_path = '/content/Animals'\n",
        "class_names = ['Cheetah', 'Jaguar', 'Leopard', 'Lion','Tiger']\n",
        "# apply glob module to retrieve files/pathnames\n",
        "animal_path = os.path.join(dataset_path, class_names[1], '*')\n",
        "animal_path = glob.glob(animal_path)\n",
        "image = io.imread(animal_path[4])\n",
        "# plotting the original image\n",
        "i, (im1) = plt.subplots(1)\n",
        "i.set_figwidth(15)\n",
        "im1.imshow(image)\n",
        "i, (im1, im2, im3, im4) = plt.subplots(1, 4, sharey=True)\n",
        "i.set_figwidth(20)\n",
        "im1.imshow(image) #Original image\n",
        "im2.imshow(image[:, : , 0]) #Red\n",
        "im3.imshow(image[:, : , 1]) #Green\n",
        "im4.imshow(image[:, : , 2]) #Blue\n",
        "i.suptitle('Original & RGB image channels')\n",
        "#GREYSCALE CONVERSION\n",
        "import skimage\n",
        "gray_image = skimage.color.rgb2gray(image)\n",
        "plt.imshow(gray_image, cmap = 'gray')\n",
        "#normalisation\n",
        "norm_image = (gray_image - np.min(gray_image)) / (np.max(gray_image) - np.min(gray_image))\n",
        "plt.imshow(norm_image)\n",
        "#DATA-AGUMENTATION\n",
        "#1.ShiftingHorizontally\n",
        "from numpy import expand_dims\n",
        "from keras_preprocessing.image import load_img\n",
        "from keras_preprocessing.image import img_to_array\n",
        "from keras.preprocessing.image import ImageDataGenerator\n",
        "# convert to numpy array\n",
        "data = img_to_array(image)\n",
        "# expand dimension to one sample\n",
        "samples = expand_dims(image, 0)\n",
        "# create image data augmentation generator\n",
        "datagen = ImageDataGenerator(width_shift_range=[-200,200])\n",
        "# create an iterator\n",
        "it = datagen.flow(samples, batch_size=1)\n",
        "fig, im = plt.subplots(nrows=1, ncols=3, figsize=(15,15))\n",
        "# generate batch of images\n",
        "for i in range(3):\n",
        "# convert to unsigned integers\n",
        "image = next(it)[0].astype('uint8')\n",
        "# plot image\n",
        "im[i].imshow(image)\n",
        "#Flipping\n",
        "datagen = ImageDataGenerator(horizontal_flip=True, vertical_flip=True)\n",
        "# create an iterator\n",
        "it = datagen.flow(samples, batch_size=1)\n",
        "fig, im = plt.subplots(nrows=1, ncols=3, figsize=(15,15))\n",
        "# generate batch of images\n",
        "for i in range(3):\n",
        "# convert to unsigned integers\n",
        "image = next(it)[0].astype('uint8')\n",
        "# plot image\n",
        "im[i].imshow(image)\n",
        "#Rotaion\n",
        "datagen = ImageDataGenerator(rotation_range=20, fill_mode='nearest')\n",
        "# create an iterator\n",
        "it = datagen.flow(samples, batch_size=1)\n",
        "fig, im = plt.subplots(nrows=1, ncols=3, figsize=(15,15))\n",
        "# generate batch of images\n",
        "for i in range(3):\n",
        "# convert to unsigned integers\n",
        "image = next(it)[0].astype('uint8')\n",
        "# plot image\n",
        "im[i].imshow(image)\n",
        "#Changing the Brightness\n",
        "datagen = ImageDataGenerator(brightness_range=[0.5,2.0])\n",
        "it = datagen.flow(samples, batch_size=1)\n",
        "fig, im = plt.subplots(nrows=1, ncols=3, figsize=(15,15))\n",
        "# generate batch of images\n",
        "for i in range(3):\n",
        "# convert to unsigned integers\n",
        "image = next(it)[0].astype('uint8')\n",
        "# plot image\n",
        "im[i].imshow(image)"
      ],
      "metadata": {
        "id": "wpmTSU3QNy42"
      },
      "execution_count": null,
      "outputs": []
    }
  ]
}